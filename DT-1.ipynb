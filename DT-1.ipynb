{
 "cells": [
  {
   "cell_type": "markdown",
   "id": "766bbbe5-adcc-403b-b220-e400c21cb7fa",
   "metadata": {},
   "source": [
    "# Assignment 1: Binary Decision Tree (10 marks)\n",
    "\n",
    "Student Name: Wang Risheng\n",
    "\n",
    "Student ID: 1053051\n",
    "\n",
    "## General info\n",
    "\n",
    "<b>Due date</b>: Friday, 11 August 2023 at 5 pm \n",
    "\n",
    "<b>Submission method</b>: Canvas submission\n",
    "\n",
    "<b>Submission materials</b>: completed copy of this Jupyter notebook\n",
    "\n",
    "<b>Late submissions</b>: -10% per day up to 5 days (both weekdays and weekends count)\n",
    "<ul>\n",
    "    <li>one day late, -1.0;</li>\n",
    "    <li>two days late, -2.0;</li>\n",
    "    <li>three days late, -3.0;</li>\n",
    "    <li>four days late, -4.0;</li>\n",
    "    <li>five days late, -5.0;</li>\n",
    "</ul>\n",
    "\n",
    "<b>Marks</b>: This assignment will be marked out of 10, and make up 10% of your overall mark for this subject.\n",
    "\n",
    "<b>Materials</b>: See [Using Jupyter Notebook and Python page] on Canvas (under Modules> Coding Resources) for information on the basic setup required for this class, including a Jupyter notebook viewer and the python packages `numpy` and `pprint`. You can use any Python built-in packages, but do not use any other 3rd party packages; if your iPython notebook doesn't run on the marker's machine, you will lose marks. <b> You should use Python 3</b>.  \n",
    "\n",
    "\n",
    "<b>Evaluation</b>: Your iPython notebook should run end-to-end without any errors in a reasonable amount of time, and you must follow all instructions provided below, including specific implementation requirements and instructions for what needs to be printed (please avoid printing output we don't ask for). You should edit the sections below where requested, but leave the rest of the code as is. You should leave the output from running your code in the iPython notebook you submit, to assist with marking. The amount each section is worth is given in parenthesis after the instructions. \n",
    "\n",
    "You will be marked not only on the correctness of your methods and answers but also the quality and efficency of your code: in particular, you should be careful to use Python built-in functions and operators when appropriate and pick descriptive variable names that adhere to <a href=\"https://www.python.org/dev/peps/pep-0008/\">Python style requirements</a>. If you think it might be unclear what you are doing, you should comment your code to help the marker make sense of it. We reserve the right to deduct up to 1 marks for unreadable or exessively inefficient code.\n",
    "\n",
    "<b>Updates</b>: Any major changes to the assignment will be announced via Canvas. Minor changes and clarifications will be announced on Canvas>Assignments>Assignmnet1; we recommend you check it regularly.\n",
    "\n",
    "<b>Academic misconduct</b>: This assignment is an individual task, and so reuse of code or other instances of clear influence will be considered cheating. Please check the <a href=\"https://canvas.lms.unimelb.edu.au/courses/153706/modules#module_662096\">CIS Academic Honesty training</a> for more information. We will be checking submissions for originality and will invoke the University’s <a href=\"http://academichonesty.unimelb.edu.au/policy.html\">Academic Misconduct policy</a> where inappropriate levels of collusion or plagiarism are deemed to have taken place.\n",
    "\n",
    "**IMPORTANT**\n",
    "\n",
    "Please carefully read and fill out the <b>Authorship Declaration</b> form at the bottom of the page. Failure to fill out this form results in the following deductions: \n",
    "<UL TYPE=”square”>\n",
    "<LI>Missing Authorship Declaration at the bottom of the page, -1.0\n",
    "<LI>Incomplete or unsigned Authorship Declaration at the bottom of the page, -0.5\n",
    "</UL>"
   ]
  },
  {
   "cell_type": "markdown",
   "id": "3d01e21e-727c-4b91-8bb9-0e98bf7f085d",
   "metadata": {},
   "source": [
    "## Overview\n",
    "\n",
    "In this assignment, you will build the binary Decision Tree (DT) classification algorithm from scratch and apply it to a real-world machine learning dataset. You are not allowed to use third party library functions and directly call pre-built DT algorithms. After building the DT, you will predict the predominant color of national flags using a diverse set of features, including country features such as language, population, in addition to other structural properties. The list of classes (colors) is:\n",
    "\n",
    "```\n",
    "black\n",
    "blue\n",
    "brown\n",
    "gold\n",
    "green\n",
    "orange\n",
    "red\n",
    "white\n",
    "```\n",
    "\n",
    "We use a modified version of the Flags data set from the UCI Machine learning repository <a href=\"https://archive.ics.uci.edu/ml/datasets/Flags\"> Flags Dataset</a> (click the link for more information on all features and values).\n",
    "\n",
    "\n",
    "In the **Data Preparation** section, you will read the dataset into a data frame(Q1.1). You will also need to develop code to convert two of the numeric features to nominal (Q1.2). Then, the data will be divided into two parts: Train and Test. (Q1.3)\n",
    "\n",
    "In the **Model Training** section, you will write a number of helper functions that will be incorporated into the main Binary Decision Tree function (Q2-6).\n",
    "\n",
    "You can observe the use of each of these functions in the Main Binary Decision Tree Algorithm, which you can use to print your trained tree. We have also provided the code for navigating a trained tree and using it to predict the labels for the test dataset.\n",
    "\n",
    "In the **Classification and Evaluation** section, you will test and evaluate your model. You will implement functions from scratch to calculate the accuracy of the model predictions (Q7). *For the evaluation part you are NOT allowed to use third party provided library functions such as classification_report.* Finally, you will train a tree and use it to predict the labels for the test set and see the accuracy of your model (Q8).\n",
    "\n",
    "Q9 includes some analytical questions in which you will critically analyze the behaviour of your tree in different situations.\n"
   ]
  },
  {
   "cell_type": "code",
   "execution_count": 542,
   "id": "6c8b6c34-1376-4b46-96fb-91cd09f03767",
   "metadata": {},
   "outputs": [],
   "source": [
    "import numpy as np\n",
    "import pandas as pd\n",
    "\n",
    "from collections import Counter\n",
    "from pprint import pprint"
   ]
  },
  {
   "cell_type": "markdown",
   "id": "6c063576-3b53-4516-a4d3-c3caddb38051",
   "metadata": {},
   "source": [
    "## Data Preparation \n",
    "\n",
    "The dataset that you have consist of a dataset with 194 flags. Each flag is defined by 26 features and 1 `label`. These features are `index`, `landmass`,\t`zone`,\t`area`,\t..., `animate`,\tand `text`.\n",
    "The first feature is only an index and is not useful for classification, but the rest of the features can be used for predicting the color of the flag, i.e., `label`. \n",
    "\n",
    "\n",
    "#### Q1.1 Reading the input file and data preprocessing (0.25 marks)\n",
    "\n",
    "This code should read the input file into a `pandas` dataframe. You should remove the first feature because it is only an id."
   ]
  },
  {
   "cell_type": "code",
   "execution_count": 543,
   "id": "e7b54cc5-44ae-43f1-ae76-33386b566a4c",
   "metadata": {},
   "outputs": [],
   "source": [
    "############ YOUR CODE HERE ##############\n",
    "# First, read the input file\n",
    "df = pd.read_csv(\"flags.data.csv\")\n",
    "# Second, drop the index column\n",
    "df = df.drop(columns='index')\n",
    "\n",
    "############## TEST IT YOURSELF ###############\n",
    "\n",
    "assert df['landmass'][0] == 5\n",
    "assert df['zone'][67] == 4\n"
   ]
  },
  {
   "cell_type": "markdown",
   "id": "17e96191-5b43-41d6-8e9b-10204d044967",
   "metadata": {},
   "source": [
    "#### Q1.2 Convert Numeric features to Categorical (0.5 marks)\n",
    "In order to simplify our calculations we are going to transform the `area` and `population` features with numeric values to categories. You will be using **equal frequency binning with 5 bins**.\n",
    "\n",
    "**NOTE:** Assign sequential integer values starting from 0 to 4 to each of the bins. For example for `population` feature, any value between [0,1] is mapped to 0, any value between (1,4] is mapped to 1, and so on.\n"
   ]
  },
  {
   "cell_type": "code",
   "execution_count": 544,
   "id": "26261816-948d-4901-9429-3f0d1ba9c937",
   "metadata": {},
   "outputs": [],
   "source": [
    "############ YOUR CODE HERE ##############\n",
    "def equal_frequency_area(data):\n",
    "    bin_size = 5\n",
    "    df.sort_values('area')\n",
    "    value = pd.qcut(df['area'], bin_size, labels = False, duplicates = 'drop')\n",
    "    return value\n",
    "\n",
    "def equal_frequency_population():\n",
    "    bin_size = 5\n",
    "    \n",
    "    value = pd.qcut(df['population'], bin_size + 1, labels = False, duplicates = 'drop') \n",
    "    return value\n",
    "\n",
    "## It shows that we cannot use qcut function directly to do equal frquency binning of 5 bins for values of population\n",
    "## We may manually do the binning by using a stable sort algorithm\n",
    "## Selection sort may be a good option since it is easy to use\n",
    "## We not only swap the values but also the indices in the original array\n",
    "## and we put indices in an array called indices\n",
    "def insertion_sort_to_find_indices(array):\n",
    "    indices = []\n",
    "\n",
    "    for i in range(len(array)):\n",
    "        indices.append(i)\n",
    "\n",
    "    for i in range(len(array)):\n",
    "        min_index = i\n",
    "        for j in range(i+1, len(array)):\n",
    "            if array[min_index] > array[j]:\n",
    "                min_index = j\n",
    "            array[i], array[min_index] = array[min_index], array[i]     \n",
    "        ##print(min_index)\n",
    "        indices[i], indices[min_index] = indices[min_index], indices[i]\n",
    "    return indices\n",
    "\n",
    "## Now we aim to separate the indices after swapping into 5 bins and each bin size has almost same size\n",
    "array = df['population'].values\n",
    "indices = insertion_sort_to_find_indices(array) \n",
    "bin_number = 5\n",
    "each_bin_size = (len(array) // bin_number) + 1 ## Maximum size for each bin\n",
    "\n",
    "indices_for_bin = [[] for _ in range(bin_number)] ## create an empty 2d array with 5 inner arrays\n",
    "index = 0\n",
    "run = True ## boolean value to indicate whether run\n",
    "i = 0\n",
    "while i in range(bin_number) and run:\n",
    "    j = 0\n",
    "    while j < each_bin_size:\n",
    "        if index < len(indices):\n",
    "            indices_for_bin[i].append(indices[index])\n",
    "            index += 1\n",
    "            j += 1\n",
    "        else:\n",
    "            run = False\n",
    "            break;  \n",
    "    i += 1\n",
    "\n",
    "# Assign bin labels to the original data\n",
    "\n",
    "## Assign bin labels to the original area data\n",
    "df['area'] = equal_frequency_area(df['area'])\n",
    "## Assign bin labels to the original population data\n",
    "for i in range(len(indices_for_bin)):\n",
    "    j = 0\n",
    "    while j < len(indices_for_bin[i]):\n",
    "        df.loc[indices_for_bin[i][j], 'population'] = i\n",
    "        j += 1\n",
    "    i += 1\n",
    "##########################################"
   ]
  },
  {
   "cell_type": "markdown",
   "id": "1a77221c-1587-4b93-bd4d-19d7dc97ede8",
   "metadata": {},
   "source": [
    "#### Q1.3 Split the data into a Train and Test Set (0.25 marks)\n",
    "The first 150 instances should be used for training and the last 44 instances for testing. **SHUFFLING IS NOT ALLOWED!**"
   ]
  },
  {
   "cell_type": "code",
   "execution_count": 545,
   "id": "fe01b801-a6d4-447b-811e-4517e7e7e0c5",
   "metadata": {},
   "outputs": [],
   "source": [
    "# the first 150 instances should be used for training and the last 44 instances for testing\n",
    "# SHUFFLING IS NOT ALLOWED\n",
    "\n",
    "train_df = df[:150]\n",
    "test_df = df[150:]\n",
    "\n",
    "############## TEST IT YOURSELF ###############\n",
    "assert(len(train_df)==150)\n",
    "assert(len(test_df)==44)"
   ]
  },
  {
   "cell_type": "markdown",
   "id": "studied-danish",
   "metadata": {},
   "source": [
    "## Train a Binary Decision Tree"
   ]
  },
  {
   "cell_type": "markdown",
   "id": "7dd7f440-8152-43cc-8e63-805f4ac49401",
   "metadata": {},
   "source": [
    "### Helper Functions\n",
    "\n",
    "There are a number of helper functions that we provide here. In addition to the following helper functions, you must implement a few other helper functions to use in your binary decision tree algorithm. "
   ]
  },
  {
   "cell_type": "code",
   "execution_count": 546,
   "id": "streaming-vulnerability",
   "metadata": {},
   "outputs": [],
   "source": [
    "#######################################################################################\n",
    "# This function receives instances in a 2D array format \n",
    "# and returns the most common label for the passed instances. \n",
    "\n",
    "def assign_label(data):\n",
    "    # the input `data` is a 2D array\n",
    "    # the output is a STRING \n",
    "    \n",
    "    column = data[:, -1] \n",
    "    \n",
    "    values, counts = np.unique(column, return_counts=True)\n",
    "    index = counts.argmax()\n",
    "    name = values[index]\n",
    "    \n",
    "    return name\n",
    "\n",
    "#######################################################################################\n",
    "# This function separates instances (data) based on a given feature (split feature)\n",
    "# and a threshold value (value). \n",
    "# it returns a left and right subtree corresponding to that threshold value.\n",
    "\n",
    "def find_subtrees(data, features_list, split_feature, value):  \n",
    "    # the input `data` is a 2D array \n",
    "    # the input `features_list` is the list of feature names\n",
    "    # the input `split_feature` specifies a single feature name\n",
    "    # the input `value` specifies a value for the `split_feature`\n",
    "    # the outputs `data_left` and `data_right` are 2D arrays (subtrees) \n",
    "    \n",
    "    index = features_list.get_loc(split_feature)\n",
    "    data_left = data[data[:,index]<value]\n",
    "    data_right = data[data[:,index]>=value]\n",
    "    \n",
    "    return data_left, data_right\n",
    "\n",
    "#######################################################################################\n",
    "# This function computes the entropy of a set of instances (data) \n",
    "\n",
    "def calc_entopy(data):\n",
    "    # the input `data` is a 2D array \n",
    "    # the output is a single real-valued number\n",
    "    \n",
    "    column = data[:, -1]\n",
    "    _, counts = np.unique(column, return_counts=True)\n",
    "\n",
    "    x = counts / counts.sum()  \n",
    "    y = sum(x * -np.log2(x))\n",
    "    \n",
    "    return y\n",
    "\n"
   ]
  },
  {
   "cell_type": "markdown",
   "id": "759aba23-69eb-4e62-8f91-4669f98ee9a7",
   "metadata": {},
   "source": [
    "**Q2. Write a function that will determine whether a node is pure or not. (0.5 marks)**\n",
    "\n",
    "It takes as input: \n",
    "- data: 2D array of values containing instances\n",
    "\n",
    "It returns as output: \n",
    "- answer: a boolean value indicating whether the data (node) is pure or not"
   ]
  },
  {
   "cell_type": "code",
   "execution_count": 547,
   "id": "b2e7fe64-9769-47d0-bd19-b0cf976cf77f",
   "metadata": {},
   "outputs": [],
   "source": [
    "#This function receives a 2D array of values containing instances, it should have a format such as follows:\n",
    "#  [[3, 1, 1, ..., 1, 0, 'red'],\n",
    "#   [4, 1, 4, ..., 0, 0, 'green'],\n",
    "#   [1, 1, 0, ..., 0, 0, 'red'],\n",
    "#   ...,\n",
    "#   [5, 1, 3, ..., 0, 0, 'red']]\n",
    "\n",
    "\n",
    "def calc_purity(data): \n",
    "    # the input `data` is a 2D array as illustrated above\n",
    "    # the output `answer` is a BOOLEAN (True or False)\n",
    "    \n",
    "    ############ YOUR CODE HERE ##############\n",
    "    value = calc_entopy(data)\n",
    "    if value != 0:\n",
    "        answer = False\n",
    "    else:\n",
    "        answer = True\n",
    "    \n",
    "    ##########################################\n",
    "    return answer"
   ]
  },
  {
   "cell_type": "code",
   "execution_count": 548,
   "id": "8e6b3aa1-488d-4ba6-80a4-368695557064",
   "metadata": {},
   "outputs": [],
   "source": [
    "############## TEST IT YOURSELF ###############\n",
    "assert calc_purity(df.values) == False"
   ]
  },
  {
   "cell_type": "markdown",
   "id": "b09950a8-08d0-4129-88b2-785d1fc635ff",
   "metadata": {},
   "source": [
    "**Q3. Write a function that will determine the mean information for a given set of instances. (0.75 marks)**\n",
    "\n",
    "It takes as input: \n",
    "- data: an array of 2D arrays of values containing instances\n",
    "\n",
    "It returns as output: \n",
    "- mi: mean information which is a single real-valued number, refer to lecture 4 slides for Mean info"
   ]
  },
  {
   "cell_type": "code",
   "execution_count": 549,
   "id": "105b666c-c5b0-4e3a-8ea1-3b98320675a0",
   "metadata": {},
   "outputs": [],
   "source": [
    "# This function receives an array of 2D arrays of values containing instances, it should have a format such as follows:\n",
    "# [[[3, 1, 1, ..., 1, 0, 'red'],\n",
    "#   [4, 1, 4, ..., 0, 0, 'green'],\n",
    "#   [1, 1, 0, ..., 0, 0, 'red'],\n",
    "#   ...,\n",
    "#   [5, 1, 3, ..., 0, 0, 'red'],\n",
    "\n",
    "#   [[6, 3, 0, ..., 1, 0, 'blue'],\n",
    "#    [2, 3, 4, ..., 0, 0, 'gold'],\n",
    "#    [2, 3, 4, ..., 0, 0, 'blue'],\n",
    "#    ...,\n",
    "#    [3, 3, 3, ..., 0, 0, 'blue']]]\n",
    "\n",
    "\n",
    "def calculate_MI(data):\n",
    "    # the input `data` is an array of 2D arrays as illustrated above\n",
    "    # the output `mi` is a real-valued number\n",
    "    ############ YOUR CODE HERE ##############\n",
    "    total_array = 0\n",
    "    for a in data:\n",
    "        total_array = total_array + len(a)\n",
    "    \n",
    "    mi = 0\n",
    "    for a in data:\n",
    "        entropy = calc_entopy(a)\n",
    "        prob = len(a)/total_array\n",
    "        mi += entropy * prob\n",
    "    \n",
    " \n",
    "    ##########################################\n",
    "    \n",
    "    return mi\n"
   ]
  },
  {
   "cell_type": "code",
   "execution_count": 550,
   "id": "central-brazil",
   "metadata": {},
   "outputs": [],
   "source": [
    "############## TEST IT YOURSELF ###############\n",
    "assert(calculate_MI([df[df['label']=='red'].values,df[df['label']=='red'].values]) == 0)"
   ]
  },
  {
   "cell_type": "markdown",
   "id": "5be04ccf-9afa-4c30-8457-3092d553ff35",
   "metadata": {},
   "source": [
    "**Q4. Write a function that will determine the information gain after we perform a split for a feature (0.5 marks)**\n",
    "\n",
    "It takes as input: \n",
    "-  root: the data before the split\n",
    "-  children: the subtrees after the split\n",
    "\n",
    "\n",
    "It returns as output: \n",
    "- ig: Information Gain which is a single real-valued number, please refer to lecture 4 slides for information gain"
   ]
  },
  {
   "cell_type": "code",
   "execution_count": 551,
   "id": "d641b5a1-1c29-4b22-b385-92b807818ffa",
   "metadata": {},
   "outputs": [],
   "source": [
    "def calculate_IG(root, children):\n",
    "    # the input `root` is a 2D array as illustrated in Q2\n",
    "    # the input `children` is an array of 2D arrays as illustared in Q3\n",
    "    # the output `ig` is a real-valued number\n",
    "    ############ YOUR CODE HERE ##############\n",
    "    root_entropy = calc_entopy(root)\n",
    "    children_MI = calculate_MI(children)\n",
    "    ig = root_entropy - children_MI \n",
    "    \n",
    "    ##########################################\n",
    "    \n",
    "    return ig\n"
   ]
  },
  {
   "cell_type": "markdown",
   "id": "promotional-marijuana",
   "metadata": {},
   "source": [
    "**Q5. Write a function that will determine the best feature and value combination that results in the highest information gain (0.75 marks)**\n",
    "\n",
    "It takes as input: \n",
    "-  data: the data before the split\n",
    "-  features_list: the list of feature names\n",
    "\n",
    "\n",
    "It returns as output: \n",
    "- y1: name of the feature with the best information gain ( String ) \n",
    "- y2: value of the feature with the best information gain ( a feature value )\n",
    "\n",
    "**Note: use the find_subtrees(data, feature_list, split_feature, value) function for all possible combinations of <feature,value> to determine the best <feature,value> combination resulting in the highest information gain** "
   ]
  },
  {
   "cell_type": "code",
   "execution_count": 552,
   "id": "young-gothic",
   "metadata": {},
   "outputs": [],
   "source": [
    "def find_best_IG(data,features_list):\n",
    "    # the input `data` is a 2D array as illustrated in Q2\n",
    "    # the input `feature_list` is a list of feature names in the format of pandas Index\n",
    "    # the output `y1` is a String\n",
    "    # the output y2 is a numeric feature value\n",
    "    ############ YOUR CODE HERE ##############\n",
    "    max = 0\n",
    "    \n",
    "    for a in features_list[0:-1]:\n",
    "        values = df[a]\n",
    "        for i in values:\n",
    "            left, right = find_subtrees(data, features_list, a, i)\n",
    "            if calculate_IG(data,[left, right]) > max:\n",
    "                max = calculate_IG(data,[left, right])\n",
    "                y1 = a\n",
    "                y2 = i\n",
    "    \n",
    "    \n",
    "    ##########################################\n",
    "    \n",
    "    return y1, y2\n",
    "\n",
    "\n",
    "            "
   ]
  },
  {
   "cell_type": "code",
   "execution_count": 553,
   "id": "interior-visit",
   "metadata": {},
   "outputs": [],
   "source": [
    "############## TEST IT YOURSELF ###############\n",
    "assert(find_best_IG(train_df.values,train_df.columns)==('blue',1))"
   ]
  },
  {
   "cell_type": "markdown",
   "id": "68178b9f-0119-42b4-b534-a8fe401601a1",
   "metadata": {},
   "source": [
    "### Main Binary Decision Tree Algorithm\n",
    "**Q6. This is the recursive part of developing the Binary Decision Tree. If you have developed all the previous parts correctly this function will make a Binary Decision Tree for the passed dataset. We can set the maximum depth of the tree (`max_depth`) and number of samples that we would stop splitting a node (`min_samples`). You must edit the code below in the marked area `criteria` for the stopping condition in the ID3 algorithm. (0.5 marks)**\n",
    "\n",
    "The criteria are:\n",
    " - the current node is pure or;\n",
    " - number of instances in the current node is less than minimum samples or;\n",
    " - we have reached the maximum depth of the tree"
   ]
  },
  {
   "cell_type": "code",
   "execution_count": 554,
   "id": "20cf002d-8acc-46b6-a481-b1619a2927fb",
   "metadata": {},
   "outputs": [],
   "source": [
    "def decision_tree_algorithm(data, array, max_depth, counter=0, min_samples=2):\n",
    "    \n",
    "    \n",
    "    criteria = calc_purity(data) == True or len(array) < min_samples ############  YOUR CODE HERE  ##############  \n",
    "    if criteria :\n",
    "        y = assign_label(data)\n",
    "        return y\n",
    "    \n",
    "    # recursive part\n",
    "    else:\n",
    "        counter += 1\n",
    "        \n",
    "        name, value = find_best_IG(data,array)\n",
    "        data1, data2 = find_subtrees(data, array, name, value)\n",
    "        \n",
    "        if (len(data1) == 0) or (len(data2) == 0):\n",
    "            y = assign_label(data)\n",
    "            return y\n",
    "    \n",
    "        #instansiate the tree\n",
    "        node = \"{} < {}\".format(name, value)\n",
    "        sub_tree = {node: []}\n",
    "              \n",
    "        #develop the sub-trees (recursion)\n",
    "        left_child = decision_tree_algorithm(data=data1, array=array, max_depth=max_depth, counter=counter)\n",
    "        right_child = decision_tree_algorithm(data=data2, array=array, max_depth=max_depth, counter=counter)\n",
    "        \n",
    "        \n",
    "        if left_child == right_child:\n",
    "            sub_tree = right_child\n",
    "        else:\n",
    "            sub_tree[node].append(left_child)\n",
    "            sub_tree[node].append(right_child)\n",
    "        \n",
    "        return sub_tree   \n",
    "         "
   ]
  },
  {
   "cell_type": "code",
   "execution_count": 555,
   "id": "linear-protein",
   "metadata": {},
   "outputs": [
    {
     "name": "stdout",
     "output_type": "stream",
     "text": [
      "{'blue < 1': [{'red < 1': [{'orange < 1': [{'population < 2': ['white', 'green']}, {'landmass < 5': [{'landmass < 4': ['white', 'orange']}, 'brown']}]}, {'gold < 1': [{'area < 3': [{'circles < 4': [{'white < 1': [{'zone < 2': ['green', {'landmass < 3': ['black', 'red']}]}, {'triangle < 1': [{'colours < 4': ['red', {'area < 2': [{'stripes < 3': ['red', 'green']}, 'red']}]}, 'black']}]}, 'orange']}, {'area < 4': [{'language < 8': ['white', {'green < 1': ['white', 'red']}]}, {'circles < 1': [{'colours < 3': ['red', {'landmass < 5': ['green', 'red']}]}, 'white']}]}]}, {'green < 1': [{'area < 3': [{'zone < 3': [{'population < 2': [{'sunstars < 1': ['gold', 'red']}, 'red']}, 'white']}, {'area < 4': ['black', {'stripes < 3': ['red', 'black']}]}]}, {'zone < 2': [{'language < 6': ['gold', 'green']}, {'area < 3': [{'area < 2': [{'zone < 3': ['red', 'gold']}, 'green']}, {'bars < 2': [{'stripes < 5': ['red', 'gold']}, 'gold']}]}]}]}]}]}, {'red < 1': [{'green < 1': [{'stripes < 3': [{'stripes < 1': [{'area < 3': [{'orange < 1': ['blue', 'brown']}, 'white']}, 'white']}, 'blue']}, {'landmass < 5': ['green', 'orange']}]}, {'white < 1': [{'icon < 1': [{'population < 4': ['gold', 'red']}, 'red']}, {'population < 2': [{'colours < 4': [{'crosses < 1': [{'stripes < 3': ['white', 'red']}, {'area < 1': ['white', 'blue']}]}, {'orange < 1': [{'stripes < 1': [{'landmass < 2': [{'crosses < 1': ['green', 'red']}, {'landmass < 5': [{'area < 3': ['blue', 'gold']}, 'gold']}]}, {'language < 10': ['red', 'green']}]}, 'blue']}]}, {'saltires < 1': [{'quarters < 1': [{'colours < 5': [{'zone < 2': [{'language < 10': ['red', {'population < 3': ['red', 'blue']}]}, {'area < 2': [{'landmass < 3': ['red', 'blue']}, 'blue']}]}, 'red']}, 'red']}, 'blue']}]}]}]}]}\n"
     ]
    }
   ],
   "source": [
    "############## TEST IT YOURSELF ###############\n",
    "data = train_df\n",
    "tree = decision_tree_algorithm(data=data.values, array=data.columns, max_depth=2, counter=0)\n",
    "print(tree)"
   ]
  },
  {
   "cell_type": "markdown",
   "id": "9546eb99-134d-412e-9017-bcb9653bff3d",
   "metadata": {},
   "source": [
    "# Classification and Evaluation\n",
    "\n",
    "Now that we have built our binary decision tree, we are ready to use it to predict a label for unseen instances. We provided the code to do this, below."
   ]
  },
  {
   "cell_type": "code",
   "execution_count": 556,
   "id": "d08da855-4902-4f7b-8aab-99c930a96f2f",
   "metadata": {},
   "outputs": [],
   "source": [
    "def predict_one_instance(example, tree):\n",
    "    \n",
    "    # tree is just a root node\n",
    "    if not isinstance(tree, dict):\n",
    "        return tree\n",
    "    \n",
    "    question = list(tree.keys())[0]\n",
    "    feature_name, comparison_operator, value = question.split(\" \")\n",
    "\n",
    "    # ask question\n",
    "    if (example[feature_name] < float(value)):\n",
    "        answer = tree[question][0]\n",
    "    else:\n",
    "        answer = tree[question][1]\n",
    "\n",
    "    # base case (the answer in not a dictionary)\n",
    "    if not isinstance(answer, dict):\n",
    "        return answer\n",
    "    \n",
    "    # recursive part\n",
    "    else:\n",
    "        residual_tree = answer\n",
    "        return predict_one_instance(example, residual_tree)\n"
   ]
  },
  {
   "cell_type": "code",
   "execution_count": 557,
   "id": "bb05533a-9ec4-46d1-99a4-534e3afdcf18",
   "metadata": {},
   "outputs": [],
   "source": [
    "def make_predictions(df, tree):\n",
    "    \n",
    "    if len(df) != 0:\n",
    "        predictions = df.apply(predict_one_instance, args=(tree,), axis=1)\n",
    "    else:\n",
    "        # \"df.apply()\"\" with empty dataframe returns an empty dataframe,\n",
    "        # but \"predictions\" should be a series instead\n",
    "        predictions = pd.Series()  \n",
    "    return predictions"
   ]
  },
  {
   "cell_type": "markdown",
   "id": "6f3c2c0f-527c-4f53-adfa-d68394413e61",
   "metadata": {},
   "source": [
    "**Q7. Write a function to calculate accuracy (0.25 marks)**\n",
    "\n",
    "This function receives a dataframe and predictions of a trained tree (on that dataset) and should calculate the accuracy of the predictions for the passed dataframe.\n",
    "\n",
    "**NOTE:** You are NOT allowed to use any predefined Python accuracy methods here. "
   ]
  },
  {
   "cell_type": "code",
   "execution_count": 558,
   "id": "d63b0013-addb-41d1-a2d6-779e7980c4c7",
   "metadata": {},
   "outputs": [],
   "source": [
    "def calculate_accuracy(df, predictions):\n",
    "    \n",
    "    ########### YOUR CODE HERE ##############\n",
    "    failure = 0\n",
    "    for true_value, prediction in zip(df['label'], predictions):\n",
    "        if true_value != prediction:\n",
    "            failure += 1\n",
    "    accuracy = 1 - failure / len(predictions)\n",
    "    return accuracy"
   ]
  },
  {
   "cell_type": "markdown",
   "id": "180b9734-4118-44c4-a0b8-4b3d4f71e842",
   "metadata": {},
   "source": [
    "**Q8. Use the Tree (0.25 marks)**\n",
    "\n",
    "Using all the developed functions above build a tree using the **Training set** (train_df) (max_depth = 3) and then use it to predict labels for the **Test set** (test_df). Then print the accuracy of your tree for the test set."
   ]
  },
  {
   "cell_type": "code",
   "execution_count": 559,
   "id": "344aeeaf-d06c-447f-a034-357d060fe8db",
   "metadata": {},
   "outputs": [
    {
     "name": "stdout",
     "output_type": "stream",
     "text": [
      "0.43181818181818177\n"
     ]
    }
   ],
   "source": [
    "#############  YOUR CODE HERE ##############\n",
    "max_depth = 3\n",
    "tree =  decision_tree_algorithm(train_df.values, train_df.columns, max_depth, counter=0)\n",
    "prediction = make_predictions(test_df, tree)\n",
    "accuracy = calculate_accuracy(test_df, prediction)\n",
    "print(accuracy)\n",
    "###########################################"
   ]
  },
  {
   "cell_type": "markdown",
   "id": "3a7537f2-d946-42fd-90a3-74a035e46819",
   "metadata": {},
   "source": [
    "## Q9. Analytical questions (5.5 marks)\n",
    "\n",
    "Answer each of the following subquestions with a text answer of 3-5 sentences, using the results you obtained in the previous sections. You might need to re-run and reuse some of the functions you already implemented in the ### CODE ### cells above.\n",
    "\n",
    "\n",
    "### Q9.1. Analysing equal-frequency versus equal-width binning (1.5 marks)\n",
    "\n",
    "**(A)** Write a code to transform the `area` and `population` features with numeric values to categories using **equal width** binning with 5 bins. **[0.5 mark]**\n",
    "\n",
    "**(B)** Name which approach is more appropriate for `area` and `population` features, and explain the reasoning behind your decision.\n",
    "**[1 mark]**\n",
    "\n",
    "\n",
    "\n",
    "\n",
    "\n"
   ]
  },
  {
   "cell_type": "code",
   "execution_count": 560,
   "id": "pressing-economics",
   "metadata": {},
   "outputs": [],
   "source": [
    "### CODE 9.1(A) ###\n",
    "## First we find the maximum value and minimum value for area and population respectively\n",
    "def max_min(df, label):\n",
    "\n",
    "    max = df[label].values.max()\n",
    "    min = df[label].values.min()\n",
    "\n",
    "    return max,min\n",
    "\n",
    "area_max, area_min = max_min(df, 'area')\n",
    "population_max, population_min = max_min(df, 'population')\n",
    "\n",
    "## Now we use linspace to find the boundaries\n",
    "bin_size = 5\n",
    "area_boundaries = np.linspace(area_min, area_max, bin_size + 1)\n",
    "population_boundaries = np.linspace(population_min, population_max, bin_size + 1)\n",
    "\n",
    "area_weight = pd.cut(df['area'], area_boundaries, labels=range(1, bin_size + 1), include_lowest=True)\n",
    "population_weight = pd.cut(df['population'], population_boundaries, labels=range(1, bin_size + 1), include_lowest=True)"
   ]
  },
  {
   "cell_type": "markdown",
   "id": "wrapped-sunrise",
   "metadata": {},
   "source": [
    "**Type your text answers here**\n",
    "\n",
    "**(B)**\n",
    "\n",
    "Equal width binnning with 5 bins is a better approach for population and area.  \n",
    "The maximum value of area shown in the csv file is 22402 but majority of values are below 1000. If we choose equal frequency binning with 5 bins, the range of values in 1 bin is very large while that in another bin is small. In this case, it is hard to find the actual boundary.\n",
    "Similar for population. "
   ]
  },
  {
   "cell_type": "markdown",
   "id": "accepting-funeral",
   "metadata": {},
   "source": [
    "### Q9.2. Analysing model accuracy (2.25 marks)\n",
    "\n",
    "**(A)** Plot a <a href=\"https://en.wikipedia.org/wiki/Histogram\">histogram</a> of the actual class frequencies in the test set, and a histogram of the predicted test labels for the decision tree with depth=3. You should produce **a single plot** which shows the histogram both true and predicted labels. You should label the x-axis and y-axis appropriately and use legends to make your plot readable. [*N.B. you may use libraries like <a href=\"https://matplotlib.org/stable/tutorials/introductory/usage.html#sphx-glr-tutorials-introductory-usage-py\">matplotlib</a> or <a href=\"https://seaborn.pydata.org/introduction.html\">seaborne</a>*] **[1 mark]**\n",
    "\n",
    "**(B)** Describe and explain the discrepancy between the true and predicted distributions. **[0.75 mark]**\n",
    "\n",
    "**(C)** Do you think the accuracy is an appropriate evaluation metric for the *Flags* data set? Explain your answer. **[0.5 marks]**\n"
   ]
  },
  {
   "cell_type": "code",
   "execution_count": 561,
   "id": "conscious-programmer",
   "metadata": {},
   "outputs": [
    {
     "data": {
      "image/png": "[encoded data removed]",
      "text/plain": [
       "<Figure size 1000x600 with 1 Axes>"
      ]
     },
     "metadata": {},
     "output_type": "display_data"
    }
   ],
   "source": [
    "import matplotlib.pyplot as plt\n",
    "\n",
    "################################################\n",
    "# Your answer to Question 9.2(A) STARTS HERE\n",
    "################################################\n",
    "# Example true test labels and predicted test labels (replace with your actual data)\n",
    "label1 = 'true' \n",
    "label2 = 'predicted'  \n",
    "data_label1 = test_df['label']\n",
    "data_label2 = prediction\n",
    "plt.figure(figsize=(10, 6))\n",
    "plt.hist(data_label1, bins=20, alpha=0.9, color='red', label=label1)\n",
    "plt.hist(data_label2, bins=30, alpha=0.9, color='green', label=label2)\n",
    "plt.xlabel('true label (red) and predicted label(green)')\n",
    "plt.ylabel('Frequency')\n",
    "plt.title('Histogram of frequencies')\n",
    "plt.grid(True)\n",
    "plt.show()\n",
    "\n",
    "################################################\n",
    "# Your answer to Question 9.2(A) ENDS HERE\n",
    "################################################\n"
   ]
  },
  {
   "cell_type": "markdown",
   "id": "controlled-reserve",
   "metadata": {},
   "source": [
    "**Type your text answers here**\n",
    "\n",
    "**(B)**\n",
    "In the test data set, there is no such a flag which is labeled as black or brown.  However, there are flags labeled as black and brown in the predictions. But generally, the accuracy rate of frequencies for each colour apart from black and brown is above 50%. \n",
    "The reason that the predictions have labeled some flags as black and brown is that the prediction uses the tree based on train data set and train data set has labelled some instances as brown or black.   \n",
    "**(C)**  \n",
    "Accuracy is a correct evaluation metric for the Flags data set. The program uses the tree generated by train data set to predict the label for each flag and includes all labels of flags, which means that all colours are used, in the train data set."
   ]
  },
  {
   "cell_type": "markdown",
   "id": "dense-convert",
   "metadata": {},
   "source": [
    "### Q9.3 Features (0.75 mark)\n",
    "\n",
    "By looking at the `flags.names` file as well as your helper functions answer the following question. Feel free to implement gain ratio but you can answer this question intuitively too. \n",
    "\n",
    "**(A)** If we were to use `gain ratio` instead of `information gain`, which of the 25 attributes would be most affected? why? **0.75**\n",
    "\n"
   ]
  },
  {
   "cell_type": "code",
   "execution_count": 562,
   "id": "2c6ae29c-cee3-4430-8ed9-57b2ea81b10b",
   "metadata": {},
   "outputs": [
    {
     "name": "stdout",
     "output_type": "stream",
     "text": [
      "blue 1\n"
     ]
    }
   ],
   "source": [
    "### CODE 9.3 optional code ###\n",
    "def calculate_GR(root, children, child):\n",
    "    answer = 0\n",
    "    if calc_entopy(child) != 0:\n",
    "        answer = calculate_IG(root, children)/calc_entopy(child)\n",
    "    return answer\n",
    "\n",
    "def find_best_GR(data, features_list):\n",
    "    max = 0\n",
    "    \n",
    "    for a in features_list[0:-1]:\n",
    "        values = df[a]\n",
    "        for i in values:\n",
    "            left, right = find_subtrees(data, features_list, a, i)\n",
    "            if calculate_GR(data,[left, right], left) > max:\n",
    "                max = calculate_GR(data,[left, right], left)\n",
    "                y1 = a\n",
    "                y2 = i\n",
    "            elif calculate_GR(data,[left, right], right) > max:\n",
    "                max = calculate_GR(data,[left, right], right)\n",
    "                y1 = a\n",
    "                y2 = i\n",
    "    return y1,y2\n",
    "\n",
    "feature, value = find_best_GR(train_df.values,train_df.columns)\n",
    "print(feature, value)"
   ]
  },
  {
   "cell_type": "markdown",
   "id": "f0a0f00c-6355-4043-9e06-e2118f298a92",
   "metadata": {},
   "source": [
    "**Type your text answers here**    \n",
    "(blue, 1) is still the most affected attribute based on the result of the program\n",
    "\n"
   ]
  },
  {
   "cell_type": "markdown",
   "id": "92c7c5ce-8d9b-49b1-91ad-2345f86141be",
   "metadata": {},
   "source": [
    "### Q9.4 Decision tree complexity (1 mark)\n",
    "\n",
    "**(A)** Using the tree you generated in Q8 (name it `little_tree`), find the accuracy of the tree for predicting the labels for the **training set**. Do you notice a difference between train and test accuracy? If so, discuss possible reasons. \n",
    "\n",
    "**(B)** Now change the max_depth of the decision tree to 10 and train another tree (name it `big_tree`). Now use this new tree to predict the labels for test and train sets. Describe and explain any change in the results you notice compared to your tree of depth 3.\n"
   ]
  },
  {
   "cell_type": "code",
   "execution_count": 563,
   "id": "e8a81b50",
   "metadata": {},
   "outputs": [
    {
     "name": "stdout",
     "output_type": "stream",
     "text": [
      "1.0\n"
     ]
    }
   ],
   "source": [
    "### CODE 9.4 (A) ###\n",
    "max_depth = 3\n",
    "little_tree =  decision_tree_algorithm(train_df.values, train_df.columns, max_depth, counter=0)\n",
    "prediction = make_predictions(train_df, little_tree)\n",
    "accuracy = calculate_accuracy(train_df, prediction)\n",
    "print(accuracy)"
   ]
  },
  {
   "cell_type": "code",
   "execution_count": 564,
   "id": "2d227ce8-0624-4302-b286-9a723a9962e0",
   "metadata": {},
   "outputs": [
    {
     "name": "stdout",
     "output_type": "stream",
     "text": [
      "1.0\n",
      "0.43181818181818177\n"
     ]
    }
   ],
   "source": [
    "### CODE 9.4 (B) ###\n",
    "max_depth = 10\n",
    "big_tree = decision_tree_algorithm(train_df.values, train_df.columns, max_depth, counter=0)\n",
    "prediction_train = make_predictions(train_df, big_tree)\n",
    "accuracy_train = calculate_accuracy(train_df, prediction_train)\n",
    "prediction_test = make_predictions(test_df, big_tree)\n",
    "accuracy_test = calculate_accuracy(test_df, prediction_test)\n",
    "print(accuracy_train)\n",
    "print(accuracy_test)"
   ]
  },
  {
   "cell_type": "markdown",
   "id": "0b3ace3a-8f88-43fb-90b9-375cdbdd57f2",
   "metadata": {},
   "source": [
    "**Type your text answers here**\n",
    "\n",
    "**(A)**  \n",
    "The predictions based on the tree generated by train data set gives the 100% accuracy for the train data set since it uses the tree based on train data set, therefore there is no doubt that It will predict all corret.      \n",
    "**(B)**    \n",
    "The results show that max depth does not affect the accuracy. \n",
    "No matter how many depths this tree has, the nodes are generated based on the attributes of the train data set.\n",
    "The prediction mainly uses features to predict the labels. So the depth of the tree is not matter"
   ]
  },
  {
   "cell_type": "markdown",
   "id": "27cda3b8-38f0-48da-a877-7e395fd06fdb",
   "metadata": {},
   "source": [
    "# Authorship Declaration:\n",
    "\n",
    "   (1) I certify that the program contained in this submission is completely\n",
    "   my own individual work, except where explicitly noted by comments that\n",
    "   provide details otherwise.  I understand that work that has been developed\n",
    "   by another student, or by me in collaboration with other students,\n",
    "   or by non-students as a result of request, solicitation, or payment,\n",
    "   may not be submitted for assessment in this subject.  I understand that\n",
    "   submitting for assessment work developed by or in collaboration with\n",
    "   other students or non-students constitutes Academic Misconduct, and\n",
    "   may be penalized by mark deductions, or by other penalties determined\n",
    "   via the University of Melbourne Academic Honesty Policy, as described\n",
    "   at https://academicintegrity.unimelb.edu.au.\n",
    "\n",
    "   (2) I also certify that I have not provided a copy of this work in either\n",
    "   softcopy or hardcopy or any other form to any other student, and nor will\n",
    "   I do so until after the marks are released. I understand that providing\n",
    "   my work to other students, regardless of my intention or any undertakings\n",
    "   made to me by that other student, is also Academic Misconduct.\n",
    "\n",
    "   (3) I further understand that providing a copy of the assignment\n",
    "   specification to any form of code authoring or assignment tutoring\n",
    "   service, or drawing the attention of others to such services and code\n",
    "   that may have been made available via such a service, may be regarded\n",
    "   as Student General Misconduct (interfering with the teaching activities\n",
    "   of the University and/or inciting others to commit Academic Misconduct).\n",
    "   I understand that an allegation of Student General Misconduct may arise\n",
    "   regardless of whether or not I personally make use of such solutions\n",
    "   or sought benefit from such actions.\n",
    "\n",
    "   <b>Signed by</b>: [Wang Risheng 1053051]\n",
    "   \n",
    "   <b>Dated</b>: [07/08/2023]"
   ]
  },
  {
   "cell_type": "code",
   "execution_count": null,
   "id": "30d60b59-0c8e-48c0-a899-54c84d4ee2d5",
   "metadata": {},
   "outputs": [],
   "source": []
  }
 ],
 "metadata": {
  "kernelspec": {
   "display_name": "Python 3",
   "language": "python",
   "name": "python3"
  },
  "language_info": {
   "codemirror_mode": {
    "name": "ipython",
    "version": 3
   },
   "file_extension": ".py",
   "mimetype": "text/x-python",
   "name": "python",
   "nbconvert_exporter": "python",
   "pygments_lexer": "ipython3",
   "version": "3.11.4"
  }
 },
 "nbformat": 4,
 "nbformat_minor": 5
}
